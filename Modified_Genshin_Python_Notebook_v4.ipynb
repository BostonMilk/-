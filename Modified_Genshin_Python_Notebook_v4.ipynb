{
 "cells": [
  {
   "cell_type": "markdown",
   "metadata": {
    "collapsed": false
   },
   "source": [
    "<br/>\n",
    "\n",
    "Python被大量应用在数据挖掘和深度学习领域，其中使用极其广泛的是Numpy、pandas、Matplotlib、PIL等库。\n",
    "\n",
    "\n",
    "\n",
    "\n",
    "<br/>\n",
    "<br/>\n",
    "\n",
    "**numpy**是Python科学计算库的基础。包含了强大的N维数组对象和向量运算。\n",
    " \n",
    "**pandas**是建立在numpy基础上的高效数据分析处理库，是Python的重要数据分析库。\n",
    " \n",
    "**Matplotlib**是一个主要用于绘制二维图形的Python库。用途：绘图、可视化\n",
    "\n",
    "**PIL**库是一个具有强大图像处理能力的第三方库。用途：图像处理\n",
    "\n",
    "\n",
    "\n",
    "\n",
    "\n",
    "\n"
   ]
  },
  {
   "cell_type": "markdown",
   "id": "1c0a19a7",
   "metadata": {},
   "source": [
    "\n",
    "# Numpy库\n",
    "Numpy是Python中用于科学计算的核心库，它提供了高性能的多维数组对象和工具用于处理这些数组。在这一部分，我们将使用原神中的角色数据作为例子，来展示Numpy的基本操作。\n"
   ]
  },
  {
   "cell_type": "markdown",
   "id": "6d982779",
   "metadata": {},
   "source": [
    "\n",
    "## 示例：使用Numpy表示原神角色属性\n",
    "在原神游戏中，每个角色都有自己的属性，如攻击力、生命值等。我们可以使用Numpy数组来表示这些属性。\n",
    "\n",
    "```python\n",
    "import numpy as np\n",
    "\n",
    "# 假设我们有一个角色，其属性包括攻击力、生命值和防御力\n",
    "character_attributes = np.array([1000, 2500, 500])  # 攻击力、生命值、防御力\n",
    "print(\"角色属性:\", character_attributes)\n",
    "```\n"
   ]
  },
  {
   "cell_type": "markdown",
   "id": "65cf71ee",
   "metadata": {},
   "source": [
    "\n",
    "# Pandas库\n",
    "Pandas是Python中用于数据分析和操作的强大库。我们将使用原神中的角色甘雨的数据，来展示Pandas的数据处理功能。\n"
   ]
  },
  {
   "cell_type": "markdown",
   "id": "6d54de4f",
   "metadata": {},
   "source": [
    "\n",
    "## 示例：使用Pandas处理数据\n",
    "以原神为例，我们可以收集关于角色的各种数据，比如等级、攻击力、生命值等。使用Pandas，我们可以轻松地管理这些数据。\n",
    "\n",
    "```python\n",
    "import pandas as pd\n",
    "\n",
    "# 创建一个包含甘雨数据的DataFrame\n",
    "ganyu_data = {\n",
    "    \"属性\": [\"等级\", \"攻击力\", \"生命值\"],\n",
    "    \"值\": [90, 2000, 10000]\n",
    "}\n",
    "ganyu_df = pd.DataFrame(ganyu_data)\n",
    "print(ganyu_df)\n",
    "```\n"
   ]
  },
  {
   "cell_type": "markdown",
   "id": "7af3fce1",
   "metadata": {},
   "source": [
    "\n",
    "# Matplotlib库\n",
    "Matplotlib是Python中一个广泛使用的绘图库，它能够轻松创建高质量的图表。在这里，我们将使用甘雨的数据来展示如何用Matplotlib进行数据可视化。\n"
   ]
  },
  {
   "cell_type": "markdown",
   "id": "01bd206f",
   "metadata": {},
   "source": [
    "\n",
    "## 示例：绘制甘雨的属性图表\n",
    "使用Matplotlib，我们可以将甘雨的属性数据可视化，比如绘制一个条形图来展示她的等级、攻击力和生命值。\n",
    "\n",
    "```python\n",
    "import matplotlib.pyplot as plt\n",
    "import pandas as pd\n",
    "\n",
    "# 甘雨的数据\n",
    "ganyu_data = {\n",
    "    \"属性\": [\"等级\", \"攻击力\", \"生命值\"],\n",
    "    \"值\": [90, 2000, 10000]\n",
    "}\n",
    "ganyu_df = pd.DataFrame(ganyu_data)\n",
    "\n",
    "# 绘制条形图\n",
    "plt.bar(ganyu_df[\"属性\"], ganyu_df[\"值\"])\n",
    "plt.title(\"甘雨的属性\")\n",
    "plt.show()\n",
    "```\n"
   ]
  },
  {
   "cell_type": "markdown",
   "metadata": {
    "collapsed": false
   },
   "source": [
    "# Numpy库\n",
    "\n",
    "NumPy是使用Python进行科学计算的基础软件包。\n",
    "\n",
    "更多学习，可参考**numpy中文网**：https://www.numpy.org.cn/"
   ]
  },
  {
   "cell_type": "markdown",
   "metadata": {
    "collapsed": false
   },
   "source": [
    "## 1.数组创建\n",
    "\n",
    "可以使用array函数从常规Python**列表或元组**中创建数组。得到的数组的类型是从Python列表中元素的类型推导出来的。\n",
    "\n",
    "创建数组最简单的办法就是使用array函数。它接受一切序列型的对象（包括其他数组），然后产生一个新的含有传入数据的numpy数组。其中，嵌套序列（比如由一组等长列表组成的列表）将会被转换为一个多维数组"
   ]
  },
  {
   "cell_type": "code",
   "execution_count": 1,
   "metadata": {
    "collapsed": false
   },
   "outputs": [
    {
     "name": "stdout",
     "output_type": "stream",
     "text": [
      "[[1 2 3]\n",
      " [4 5 6]]\n"
     ]
    }
   ],
   "source": [
    "import numpy as np\n",
    "\n",
    "#将列表转换为数组\n",
    "array = np.array([[1,2,3],\n",
    "                 [4,5,6]])\n",
    "print(array)"
   ]
  },
  {
   "cell_type": "code",
   "execution_count": 24,
   "metadata": {
    "collapsed": false
   },
   "outputs": [],
   "source": [
    "import numpy as np\n",
    "\n",
    "#将元组转换为数组\n",
    "array = np.array(((1,2,3),\n",
    "                 (4,5,6)))\n",
    "print(array)"
   ]
  },
  {
   "cell_type": "markdown",
   "metadata": {
    "collapsed": false
   },
   "source": [
    "下面这样可以吗？"
   ]
  },
  {
   "cell_type": "code",
   "execution_count": 3,
   "metadata": {
    "collapsed": false
   },
   "outputs": [],
   "source": [
    "a = np.array([1,2,3,4]) "
   ]
  },
  {
   "cell_type": "markdown",
   "metadata": {
    "collapsed": false
   },
   "source": [
    "<br/>\n",
    "\n",
    "通常，数组的元素最初是未知的，但它的大小是已知的。因此，NumPy提供了几个函数来创建具有初始占位符内容的数组。\n",
    "\n",
    "* zeros():可以创建指定长度或者形状的全0数组\n",
    " \n",
    "* ones():可以创建指定长度或者形状的全1数组\n",
    " \n",
    "* empty():创建一个数组，其初始内容是随机的,取决于内存的状态"
   ]
  },
  {
   "cell_type": "code",
   "execution_count": 4,
   "metadata": {
    "collapsed": false
   },
   "outputs": [
    {
     "name": "stdout",
     "output_type": "stream",
     "text": [
      "[[0. 0. 0.]\n",
      " [0. 0. 0.]]\n"
     ]
    }
   ],
   "source": [
    "zeroarray = np.zeros((2,3))\n",
    "print(zeroarray)"
   ]
  },
  {
   "cell_type": "code",
   "execution_count": 5,
   "metadata": {
    "collapsed": false
   },
   "outputs": [
    {
     "name": "stdout",
     "output_type": "stream",
     "text": [
      "[[1 1 1 1]\n",
      " [1 1 1 1]\n",
      " [1 1 1 1]]\n"
     ]
    }
   ],
   "source": [
    "onearray = np.ones((3,4),dtype='int64')\n",
    "print(onearray)"
   ]
  },
  {
   "cell_type": "code",
   "execution_count": 6,
   "metadata": {
    "collapsed": false
   },
   "outputs": [
    {
     "name": "stdout",
     "output_type": "stream",
     "text": [
      "[[6.92695269e-310 4.64024822e-310 0.00000000e+000 0.00000000e+000]\n",
      " [0.00000000e+000 0.00000000e+000 0.00000000e+000 2.42092166e-322]\n",
      " [4.64024821e-310 4.64024823e-310 0.00000000e+000 0.00000000e+000]]\n"
     ]
    }
   ],
   "source": [
    "emptyarray = np.empty((3,4))\n",
    "print(emptyarray)"
   ]
  },
  {
   "cell_type": "markdown",
   "metadata": {
    "collapsed": false
   },
   "source": [
    "为了创建数字组成的数组，NumPy提供了一个类似于range的函数，该函数返回数组而不是列表。"
   ]
  },
  {
   "cell_type": "code",
   "execution_count": 8,
   "metadata": {
    "collapsed": false
   },
   "outputs": [
    {
     "name": "stdout",
     "output_type": "stream",
     "text": [
      "[10 11 12 13 14 15 16 17 18 19 20 21 22 23 24 25 26 27 28 29 30]\n"
     ]
    }
   ],
   "source": [
    "array = np.arange( 10, 31,5 )\n",
    "print(array)"
   ]
  },
  {
   "cell_type": "markdown",
   "metadata": {
    "collapsed": false
   },
   "source": [
    "输出数组的一些信息，如维度、形状、元素个数、元素类型等"
   ]
  },
  {
   "cell_type": "code",
   "execution_count": 9,
   "metadata": {
    "collapsed": false
   },
   "outputs": [
    {
     "name": "stdout",
     "output_type": "stream",
     "text": [
      "[[ 1  2  3]\n",
      " [ 4  5  6]\n",
      " [ 7  8  9]\n",
      " [10 11 12]]\n",
      "2\n",
      "(4, 3)\n",
      "12\n",
      "int64\n"
     ]
    }
   ],
   "source": [
    "\n",
    "array = np.array([[1,2,3],[4,5,6],[7,8,9],[10,11,12]])\n",
    "print(array)\n",
    "#数组维度\n",
    "print(array.ndim)\n",
    "#数组形状\n",
    "print(array.shape)\n",
    "#数组元素个数\n",
    "print(array.size)\n",
    "#数组元素类型\n",
    "print(array.dtype)"
   ]
  },
  {
   "cell_type": "markdown",
   "metadata": {
    "collapsed": false
   },
   "source": [
    "重新定义数字的形状"
   ]
  },
  {
   "cell_type": "code",
   "execution_count": 10,
   "metadata": {
    "collapsed": false
   },
   "outputs": [
    {
     "name": "stdout",
     "output_type": "stream",
     "text": [
      "[[0 1 2]\n",
      " [3 4 5]]\n",
      "[[1 2]\n",
      " [3 4]\n",
      " [5 6]]\n"
     ]
    }
   ],
   "source": [
    "\n",
    "array1 = np.arange(6).reshape([2,3])\n",
    "print(array1)\n",
    "\n",
    "\n",
    "array2 = np.array([[1,2,3],[4,5,6]],dtype=np.int64).reshape([3,2])\n",
    "print(array2)\n"
   ]
  },
  {
   "cell_type": "markdown",
   "metadata": {
    "collapsed": false
   },
   "source": [
    "## 2.数组的计算\n",
    "\n",
    "数组很重要，因为它可以使我们不用编写循环即可对数据执行批量运算。这通常叫做矢量化（vectorization）。\n",
    "\n",
    "**大小相等的数组之间的任何算术运算都会将运算应用到元素级**。同样，数组与标量的算术运算也会将那个标量值传播到各个元素.\n"
   ]
  },
  {
   "cell_type": "markdown",
   "metadata": {
    "collapsed": false
   },
   "source": [
    "\n",
    "矩阵的基础运算："
   ]
  },
  {
   "cell_type": "code",
   "execution_count": 11,
   "metadata": {
    "collapsed": false
   },
   "outputs": [
    {
     "name": "stdout",
     "output_type": "stream",
     "text": [
      "[[2 3 4]\n",
      " [5 6 7]]\n",
      "[[0 1 2]\n",
      " [3 4 5]]\n",
      "[[1 2 3]\n",
      " [4 5 6]]\n",
      "[[1. 2. 3.]\n",
      " [4. 5. 6.]]\n",
      "[[ 1  4  9]\n",
      " [16 25 36]]\n"
     ]
    }
   ],
   "source": [
    "\n",
    "arr1 = np.array([[1,2,3],[4,5,6]])\n",
    "arr2 = np.ones([2,3],dtype=np.int64)\n",
    "\n",
    "print(arr1 + arr2)\n",
    "print(arr1 - arr2)\n",
    "print(arr1 * arr2)\n",
    "print(arr1 / arr2)\n",
    "print(arr1 ** 2)\n"
   ]
  },
  {
   "cell_type": "markdown",
   "metadata": {
    "collapsed": false
   },
   "source": [
    "矩阵乘法："
   ]
  },
  {
   "cell_type": "code",
   "execution_count": 12,
   "metadata": {
    "collapsed": false
   },
   "outputs": [
    {
     "name": "stdout",
     "output_type": "stream",
     "text": [
      "[[1 2 3]\n",
      " [4 5 6]]\n",
      "[[1 1]\n",
      " [1 1]\n",
      " [1 1]]\n",
      "[[ 6  6]\n",
      " [15 15]]\n"
     ]
    }
   ],
   "source": [
    "#矩阵乘法\n",
    "arr3 = np.array([[1,2,3],[4,5,6]])\n",
    "arr4 = np.ones([3,2],dtype=np.int64)\n",
    "print(arr3)\n",
    "print(arr4)\n",
    "print(np.dot(arr3,arr4))"
   ]
  },
  {
   "cell_type": "markdown",
   "metadata": {
    "collapsed": false
   },
   "source": [
    "矩阵的其他计算："
   ]
  },
  {
   "cell_type": "code",
   "execution_count": 13,
   "metadata": {
    "collapsed": false
   },
   "outputs": [
    {
     "name": "stdout",
     "output_type": "stream",
     "text": [
      "[[1 2 3]\n",
      " [4 5 6]]\n",
      "[ 6 15]\n",
      "6\n",
      "1\n",
      "3.5\n",
      "5\n",
      "0\n"
     ]
    }
   ],
   "source": [
    "print(arr3)\n",
    "print(np.sum(arr3,axis=1)) #axis=1,每一行求和 axie=0,每一列求和\n",
    "print(np.max(arr3))\n",
    "print(np.min(arr3))\n",
    "print(np.mean(arr3))\n",
    "print(np.argmax(arr3))\n",
    "print(np.argmin(arr3))"
   ]
  },
  {
   "cell_type": "code",
   "execution_count": 14,
   "metadata": {
    "collapsed": false
   },
   "outputs": [
    {
     "name": "stdout",
     "output_type": "stream",
     "text": [
      "[[1 4]\n",
      " [2 5]\n",
      " [3 6]]\n",
      "[1 2 3 4 5 6]\n"
     ]
    }
   ],
   "source": [
    "arr3_tran = arr3.transpose()\n",
    "print(arr3_tran)\n",
    "\n",
    "print(arr3.flatten())"
   ]
  },
  {
   "cell_type": "markdown",
   "metadata": {
    "collapsed": false
   },
   "source": [
    "## 3.数组的索引与切片"
   ]
  },
  {
   "cell_type": "code",
   "execution_count": 15,
   "metadata": {
    "collapsed": false
   },
   "outputs": [
    {
     "name": "stdout",
     "output_type": "stream",
     "text": [
      "[[0 1 2]\n",
      " [3 4 5]]\n",
      "[3 4 5]\n",
      "5\n",
      "5\n",
      "[3 4 5]\n",
      "[1 4]\n",
      "[3 4]\n"
     ]
    }
   ],
   "source": [
    "arr5 = np.arange(0,6).reshape([2,3])\n",
    "print(arr5)\n",
    "print(arr5[1])\n",
    "print(arr5[1][2])\n",
    "print(arr5[1,2])\n",
    "\n",
    "print(arr5[1,:])\n",
    "print(arr5[:,1])\n",
    "print(arr5[1,0:2])"
   ]
  },
  {
   "cell_type": "markdown",
   "metadata": {
    "collapsed": false
   },
   "source": [
    "# pandas库\n",
    "\n",
    "pandas是python第三方库，提供高性能易用数据类型和分析工具。\n",
    "\n",
    "pandas基于numpy实现，常与numpy和matplotlib一同使用\n",
    "\n",
    "更多学习，请参考**pandas中文网**：https://www.pypandas.cn/\n",
    "\n"
   ]
  },
  {
   "cell_type": "markdown",
   "metadata": {
    "collapsed": false
   },
   "source": [
    "## 1.Series\n",
    "\n",
    "Series是一种类似于一维数组的对象，它由一维数组（各种numpy数据类型）以及一组与之相关的数据标签（即索引）组成.\n",
    "\n",
    "可理解为带标签的一维数组，可存储整数、浮点数、字符串、Python 对象等类型的数据。"
   ]
  },
  {
   "cell_type": "code",
   "execution_count": 16,
   "metadata": {
    "collapsed": false
   },
   "outputs": [
    {
     "name": "stdout",
     "output_type": "stream",
     "text": [
      "0    a\n",
      "1    b\n",
      "2    c\n",
      "3    d\n",
      "4    e\n",
      "dtype: object\n"
     ]
    }
   ],
   "source": [
    "import pandas as pd\n",
    "import numpy as np\n",
    "\n",
    "s = pd.Series(['a','b','c','d','e'])\n",
    "print(s)\n"
   ]
  },
  {
   "cell_type": "markdown",
   "metadata": {
    "collapsed": false
   },
   "source": [
    "Seris中可以使用index设置索引列表。\n",
    "\n",
    "与字典不同的是，Seris允许索引重复"
   ]
  },
  {
   "cell_type": "code",
   "execution_count": 17,
   "metadata": {
    "collapsed": false
   },
   "outputs": [
    {
     "name": "stdout",
     "output_type": "stream",
     "text": [
      "100    a\n",
      "200    b\n",
      "100    c\n",
      "400    d\n",
      "500    e\n",
      "dtype: object\n"
     ]
    }
   ],
   "source": [
    "#与字典不同的是：Series允许索引重复\n",
    "s = pd.Series(['a','b','c','d','e'],index=[100,200,100,400,500])\n",
    "print(s)\n"
   ]
  },
  {
   "cell_type": "markdown",
   "metadata": {
    "collapsed": false
   },
   "source": [
    "Series 可以用字典实例化"
   ]
  },
  {
   "cell_type": "code",
   "execution_count": 18,
   "metadata": {
    "collapsed": false
   },
   "outputs": [
    {
     "data": {
      "text/plain": [
       "b    1\n",
       "a    0\n",
       "c    2\n",
       "dtype: int64"
      ]
     },
     "execution_count": 18,
     "metadata": {},
     "output_type": "execute_result"
    }
   ],
   "source": [
    "\n",
    "d = {'b': 1, 'a': 0, 'c': 2}\n",
    "pd.Series(d)"
   ]
  },
  {
   "cell_type": "markdown",
   "metadata": {
    "collapsed": false
   },
   "source": [
    "\n",
    "可以通过Series的values和index属性获取其数组表示形式和索引对象"
   ]
  },
  {
   "cell_type": "code",
   "execution_count": 20,
   "metadata": {
    "collapsed": false
   },
   "outputs": [
    {
     "name": "stdout",
     "output_type": "stream",
     "text": [
      "100    a\n",
      "200    b\n",
      "100    c\n",
      "400    d\n",
      "500    e\n",
      "dtype: object\n",
      "['a' 'b' 'c' 'd' 'e']\n",
      "Int64Index([100, 200, 100, 400, 500], dtype='int64')\n"
     ]
    }
   ],
   "source": [
    "print(s)\n",
    "print(s.values)\n",
    "print(s.index)\n"
   ]
  },
  {
   "cell_type": "code",
   "execution_count": 21,
   "metadata": {
    "collapsed": false
   },
   "outputs": [
    {
     "name": "stdout",
     "output_type": "stream",
     "text": [
      "100    a\n",
      "100    c\n",
      "dtype: object\n",
      "400    d\n",
      "500    e\n",
      "dtype: object\n"
     ]
    }
   ],
   "source": [
    "#与普通numpy数组相比，可以通过索引的方式选取Series中的单个或一组值\n",
    "print(s[100])\n",
    "print(s[[400, 500]])\n"
   ]
  },
  {
   "cell_type": "markdown",
   "metadata": {
    "collapsed": false
   },
   "source": []
  },
  {
   "cell_type": "code",
   "execution_count": 22,
   "metadata": {
    "collapsed": false
   },
   "outputs": [
    {
     "name": "stdout",
     "output_type": "stream",
     "text": [
      "a    1\n",
      "b    2\n",
      "c    3\n",
      "d    4\n",
      "e    5\n",
      "dtype: int64\n",
      "a     2\n",
      "b     4\n",
      "c     6\n",
      "d     8\n",
      "e    10\n",
      "dtype: int64\n",
      "a     3\n",
      "b     6\n",
      "c     9\n",
      "d    12\n",
      "e    15\n",
      "dtype: int64\n"
     ]
    }
   ],
   "source": [
    "\n",
    "s = pd.Series(np.array([1,2,3,4,5]), index=['a', 'b', 'c', 'd', 'e'])\n",
    "print(s)\n",
    "\n",
    "#对应元素求和\n",
    "print(s+s)\n",
    "\n",
    "#对应元素乘\n",
    "print(s*3)\n",
    "\n"
   ]
  },
  {
   "cell_type": "markdown",
   "metadata": {
    "collapsed": false
   },
   "source": [
    "Series中最重要的一个功能是：它会在算术运算中自动对齐不同索引的数据\n",
    "\n",
    "Series 和多维数组的主要区别在于， Series 之间的操作会自动基于标签对齐数据。因此，不用顾及执行计算操作的 Series 是否有相同的标签。"
   ]
  },
  {
   "cell_type": "code",
   "execution_count": 24,
   "metadata": {
    "collapsed": false
   },
   "outputs": [
    {
     "name": "stdout",
     "output_type": "stream",
     "text": [
      "Ohio      35000\n",
      "Oregon    16000\n",
      "Texas     71000\n",
      "Utah       5000\n",
      "dtype: int64\n",
      "California        NaN\n",
      "Ohio          35000.0\n",
      "Oregon        16000.0\n",
      "Texas         71000.0\n",
      "dtype: float64\n",
      "California         NaN\n",
      "Ohio           70000.0\n",
      "Oregon         32000.0\n",
      "Texas         142000.0\n",
      "Utah               NaN\n",
      "dtype: float64\n"
     ]
    }
   ],
   "source": [
    "\n",
    "\n",
    "obj1 = pd.Series({\"Ohio\": 35000, \"Oregon\": 16000, \"Texas\": 71000, \"Utah\": 5000})\n",
    "print(obj1)\n",
    "obj2 = pd.Series({\"California\": np.nan, \"Ohio\": 35000, \"Oregon\": 16000, \"Texas\": 71000})\n",
    "print(obj2)\n",
    "print(obj1 + obj2)\n"
   ]
  },
  {
   "cell_type": "code",
   "execution_count": 25,
   "metadata": {
    "collapsed": false
   },
   "outputs": [
    {
     "name": "stdout",
     "output_type": "stream",
     "text": [
      "b    2\n",
      "c    3\n",
      "d    4\n",
      "e    5\n",
      "dtype: int64\n",
      "a    1\n",
      "b    2\n",
      "c    3\n",
      "d    4\n",
      "dtype: int64\n",
      "a    NaN\n",
      "b    4.0\n",
      "c    6.0\n",
      "d    8.0\n",
      "e    NaN\n",
      "dtype: float64\n"
     ]
    }
   ],
   "source": [
    "s = pd.Series(np.array([1,2,3,4,5]), index=['a', 'b', 'c', 'd', 'e'])\n",
    "\n",
    "print(s[1:])\n",
    "\n",
    "print(s[:-1])\n",
    "\n",
    "print(s[1:] + s[:-1])"
   ]
  },
  {
   "cell_type": "markdown",
   "metadata": {
    "collapsed": false
   },
   "source": [
    "DataFrame是一个表格型的数据结构，类似于Excel或sql表\n",
    "\n",
    "它含有一组有序的列，每列可以是不同的值类型（数值、字符串、布尔值等） \n",
    "\n",
    "DataFrame既有行索引也有列索引，它可以被看做由Series组成的字典（共用同一个索引）\n"
   ]
  },
  {
   "cell_type": "markdown",
   "metadata": {
    "collapsed": false
   },
   "source": [
    "用多维数组字典、列表字典生成 DataFrame"
   ]
  },
  {
   "cell_type": "code",
   "execution_count": 27,
   "metadata": {
    "collapsed": false
   },
   "outputs": [
    {
     "name": "stdout",
     "output_type": "stream",
     "text": [
      "    state  year  pop\n",
      "0    Ohio  2000  1.5\n",
      "1    Ohio  2001  1.7\n",
      "2    Ohio  2002  3.6\n",
      "3  Nevada  2001  2.4\n",
      "4  Nevada  2002  2.9\n"
     ]
    }
   ],
   "source": [
    "data = {'state': ['Ohio', 'Ohio', 'Ohio', 'Nevada', 'Nevada'], 'year': [2000, 2001, 2002, 2001, 2002], 'pop': [1.5, 1.7, 3.6, 2.4, 2.9]}\n",
    "frame = pd.DataFrame(data)\n",
    "print(frame)\n"
   ]
  },
  {
   "cell_type": "code",
   "execution_count": 28,
   "metadata": {
    "collapsed": false
   },
   "outputs": [
    {
     "name": "stdout",
     "output_type": "stream",
     "text": [
      "   year   state  pop\n",
      "0  2000    Ohio  1.5\n",
      "1  2001    Ohio  1.7\n",
      "2  2002    Ohio  3.6\n",
      "3  2001  Nevada  2.4\n",
      "4  2002  Nevada  2.9\n"
     ]
    }
   ],
   "source": [
    "#如果指定了列顺序，则DataFrame的列就会按照指定顺序进行排列\n",
    "frame1 = pd.DataFrame(data, columns=['year', 'state', 'pop'])\n",
    "print(frame1)\n"
   ]
  },
  {
   "cell_type": "markdown",
   "metadata": {
    "collapsed": false
   },
   "source": [
    "跟原Series一样，如果传入的列在数据中找不到，就会产生NAN值"
   ]
  },
  {
   "cell_type": "code",
   "execution_count": 29,
   "metadata": {
    "collapsed": false
   },
   "outputs": [
    {
     "name": "stdout",
     "output_type": "stream",
     "text": [
      "       year   state  pop debt\n",
      "one    2000    Ohio  1.5  NaN\n",
      "two    2001    Ohio  1.7  NaN\n",
      "three  2002    Ohio  3.6  NaN\n",
      "four   2001  Nevada  2.4  NaN\n",
      "five   2002  Nevada  2.9  NaN\n"
     ]
    }
   ],
   "source": [
    "\n",
    "frame2 = pd.DataFrame(data, columns=['year', 'state', 'pop', 'debt'], index=['one', 'two', 'three', 'four', 'five'])\n",
    "print(frame2)"
   ]
  },
  {
   "cell_type": "markdown",
   "metadata": {
    "collapsed": false
   },
   "source": [
    "用 Series 字典或字典生成 DataFrame"
   ]
  },
  {
   "cell_type": "code",
   "execution_count": 30,
   "metadata": {
    "collapsed": false
   },
   "outputs": [
    {
     "name": "stdout",
     "output_type": "stream",
     "text": [
      "   one  two\n",
      "a  1.0  1.0\n",
      "b  2.0  2.0\n",
      "c  3.0  3.0\n",
      "d  NaN  4.0\n"
     ]
    }
   ],
   "source": [
    "d = {'one': pd.Series([1., 2., 3.], index=['a', 'b', 'c']),\n",
    "     'two': pd.Series([1., 2., 3., 4.], index=['a', 'b', 'c', 'd'])}\n",
    "print(pd.DataFrame(d))"
   ]
  },
  {
   "cell_type": "code",
   "execution_count": 31,
   "metadata": {
    "collapsed": false
   },
   "outputs": [
    {
     "name": "stdout",
     "output_type": "stream",
     "text": [
      "one        Ohio\n",
      "two        Ohio\n",
      "three      Ohio\n",
      "four     Nevada\n",
      "five     Nevada\n",
      "Name: state, dtype: object\n"
     ]
    }
   ],
   "source": [
    "#通过类似字典标记的方式或属性的方式，可以将DataFrame的列获取为一个Series,返回的Series拥有原DataFrame相同的索引\n",
    "\n",
    "print(frame2['state'])"
   ]
  },
  {
   "cell_type": "markdown",
   "metadata": {
    "collapsed": false
   },
   "source": [
    "列可以通过赋值的方式进行修改,例如，给那个空的“delt”列赋上一个标量值或一组值"
   ]
  },
  {
   "cell_type": "code",
   "execution_count": 32,
   "metadata": {
    "collapsed": false
   },
   "outputs": [
    {
     "name": "stdout",
     "output_type": "stream",
     "text": [
      "       year   state  pop  debt\n",
      "one    2000    Ohio  1.5  16.5\n",
      "two    2001    Ohio  1.7  16.5\n",
      "three  2002    Ohio  3.6  16.5\n",
      "four   2001  Nevada  2.4  16.5\n",
      "five   2002  Nevada  2.9  16.5\n"
     ]
    }
   ],
   "source": [
    "\n",
    "frame2['debt'] = 16.5\n",
    "print(frame2)\n"
   ]
  },
  {
   "cell_type": "code",
   "execution_count": 33,
   "metadata": {
    "collapsed": false
   },
   "outputs": [
    {
     "name": "stdout",
     "output_type": "stream",
     "text": [
      "       year   state  pop  debt\n",
      "one    2000    Ohio  1.5  16.5\n",
      "two    2001    Ohio  1.7  16.5\n",
      "three  2002    Ohio  3.6  16.5\n",
      "four   2001  Nevada  2.4  16.5\n",
      "five   2002  Nevada  2.9  16.5\n",
      "       year   state  pop  debt    new\n",
      "one    2000    Ohio  1.5  16.5  24.75\n",
      "two    2001    Ohio  1.7  16.5  28.05\n",
      "three  2002    Ohio  3.6  16.5  59.40\n",
      "four   2001  Nevada  2.4  16.5  39.60\n",
      "five   2002  Nevada  2.9  16.5  47.85\n"
     ]
    }
   ],
   "source": [
    "print(frame2)\n",
    "frame2['new'] = frame2['debt' ]* frame2['pop'] \n",
    "print(frame2)"
   ]
  },
  {
   "cell_type": "code",
   "execution_count": 34,
   "metadata": {
    "collapsed": false
   },
   "outputs": [
    {
     "name": "stdout",
     "output_type": "stream",
     "text": [
      "       year   state  pop  debt    new\n",
      "one    2000    Ohio  1.5   0.0  24.75\n",
      "two    2001    Ohio  1.7   1.0  28.05\n",
      "three  2002    Ohio  3.6   2.0  59.40\n",
      "four   2001  Nevada  2.4   3.0  39.60\n",
      "five   2002  Nevada  2.9   4.0  47.85\n"
     ]
    }
   ],
   "source": [
    "frame2['debt'] = np.arange(5.)\n",
    "print(frame2)"
   ]
  },
  {
   "cell_type": "markdown",
   "metadata": {
    "collapsed": false
   },
   "source": [
    "# Matplotlib库\n",
    "\n",
    "Matplotlib库由各种可视化类构成，内部结构复杂。\n",
    "\n",
    "matplotlib.pylot是绘制各类可视化图形的命令字库\n",
    "\n",
    "更多学习，可参考**Matplotlib中文网**：https://www.matplotlib.org.cn\n"
   ]
  },
  {
   "cell_type": "code",
   "execution_count": 1,
   "metadata": {
    "collapsed": false
   },
   "outputs": [],
   "source": [
    "#!pip install matplotlib"
   ]
  },
  {
   "cell_type": "code",
   "execution_count": 36,
   "metadata": {
    "collapsed": false
   },
   "outputs": [
    {
     "data": {
      "image/png": "[encoded data removed]",
      "text/plain": [
       "<Figure size 432x288 with 1 Axes>"
      ]
     },
     "metadata": {},
     "output_type": "display_data"
    }
   ],
   "source": [
    "import matplotlib.pyplot as plt\n",
    "import numpy as np \n",
    "\n",
    "#显示matplotlib生成的图形\n",
    "%matplotlib inline\n",
    "\n",
    "x = np.linspace(-1,1,50) #等差数列\n",
    "y = 2*x + 1\n",
    "\n",
    "#传入x,y,通过plot()绘制出折线图 \n",
    "plt.plot(x,y)\n",
    "\n",
    "#显示图形\n",
    "plt.show()\n"
   ]
  },
  {
   "cell_type": "code",
   "execution_count": 38,
   "metadata": {
    "collapsed": false
   },
   "outputs": [
    {
     "data": {
      "image/png": "[encoded data removed]",
      "text/plain": [
       "<Figure size 432x288 with 1 Axes>"
      ]
     },
     "metadata": {},
     "output_type": "display_data"
    },
    {
     "data": {
      "image/png": "[encoded data removed]",
      "text/plain": [
       "<Figure size 504x360 with 1 Axes>"
      ]
     },
     "metadata": {},
     "output_type": "display_data"
    }
   ],
   "source": [
    "import matplotlib.pyplot as plt\n",
    "import numpy as np \n",
    "\n",
    "x = np.linspace(-1,1,50) #等差数列\n",
    "y1 = 2*x + 1\n",
    "y2 = x**2\n",
    "\n",
    "plt.figure()\n",
    "plt.plot(x,y1)\n",
    "\n",
    "plt.figure(figsize=(7,5))\n",
    "plt.plot(x,y2)\n",
    "\n",
    "plt.show()\n",
    "\n"
   ]
  },
  {
   "cell_type": "code",
   "execution_count": 39,
   "metadata": {
    "collapsed": false
   },
   "outputs": [
    {
     "data": {
      "image/png": "[encoded data removed]",
      "text/plain": [
       "<Figure size 504x360 with 1 Axes>"
      ]
     },
     "metadata": {},
     "output_type": "display_data"
    }
   ],
   "source": [
    "import matplotlib.pyplot as plt\n",
    "import numpy as np \n",
    "\n",
    "plt.figure(figsize=(7,5))\n",
    "plt.plot(x,y1,color='red',linewidth=1)\n",
    "plt.plot(x,y2,color='blue',linewidth=5)\n",
    "plt.xlabel('x',fontsize=20)\n",
    "plt.ylabel('y',fontsize=20)\n",
    "plt.show()"
   ]
  },
  {
   "cell_type": "code",
   "execution_count": 41,
   "metadata": {
    "collapsed": false
   },
   "outputs": [
    {
     "data": {
      "image/png": "[encoded data removed]",
      "text/plain": [
       "<Figure size 432x288 with 1 Axes>"
      ]
     },
     "metadata": {},
     "output_type": "display_data"
    }
   ],
   "source": [
    "import matplotlib.pyplot as plt\n",
    "import numpy as np \n",
    "\n",
    "l1, = plt.plot(x,y1,color='red',linewidth=1)\n",
    "l2, = plt.plot(x,y2,color='blue',linewidth=5)\n",
    "plt.legend(handles=[l1,l2],labels=['aa','bb'],loc='best')\n",
    "plt.xlabel('x')\n",
    "plt.ylabel('y')\n",
    "plt.xlim((0,1))  #x轴只截取一段进行显示\n",
    "plt.ylim((0,1))  #y轴只截取一段进行显示\n",
    "plt.show()"
   ]
  },
  {
   "cell_type": "code",
   "execution_count": 26,
   "metadata": {
    "collapsed": false
   },
   "outputs": [
    {
     "data": {
      "image/png": "[encoded data removed]",
      "text/plain": [
       "<Figure size 432x288 with 1 Axes>"
      ]
     },
     "metadata": {},
     "output_type": "display_data"
    }
   ],
   "source": [
    "# dots1 = np.array([2,3,4,5,6])\n",
    "# dots2 = np.array([2,3,4,5,6])\n",
    "dots1 =np.random.rand(50)\n",
    "dots2 =np.random.rand(50)\n",
    "plt.scatter(dots1,dots2,c='red',alpha=0.5) #c表示颜色，alpha表示透明度\n",
    "plt.show()\n"
   ]
  },
  {
   "cell_type": "code",
   "execution_count": 13,
   "metadata": {
    "collapsed": false
   },
   "outputs": [
    {
     "data": {
      "image/png": "[encoded data removed]",
      "text/plain": [
       "<Figure size 432x288 with 1 Axes>"
      ]
     },
     "metadata": {},
     "output_type": "display_data"
    }
   ],
   "source": [
    "x = np.arange(10)\n",
    "y = 2**x+10\n",
    "plt.bar(x,y,facecolor='#9999ff',edgecolor='white')\n",
    "plt.show()"
   ]
  },
  {
   "cell_type": "code",
   "execution_count": 14,
   "metadata": {
    "collapsed": false
   },
   "outputs": [
    {
     "data": {
      "image/png": "[encoded data removed]",
      "text/plain": [
       "<Figure size 432x288 with 1 Axes>"
      ]
     },
     "metadata": {},
     "output_type": "display_data"
    }
   ],
   "source": [
    "x = np.arange(10)\n",
    "y = 2**x+10\n",
    "plt.bar(x,y,facecolor='#9999ff',edgecolor='white')\n",
    "for ax,ay in zip(x,y):\n",
    "    plt.text(ax,ay,'%.1f' % ay,ha='center',va='bottom')\n",
    "plt.show()"
   ]
  },
  {
   "cell_type": "code",
   "execution_count": null,
   "metadata": {
    "collapsed": false
   },
   "outputs": [],
   "source": []
  },
  {
   "cell_type": "code",
   "execution_count": null,
   "metadata": {
    "collapsed": false
   },
   "outputs": [],
   "source": []
  },
  {
   "cell_type": "code",
   "execution_count": null,
   "metadata": {
    "collapsed": false
   },
   "outputs": [],
   "source": []
  }
 ],
 "metadata": {
  "kernelspec": {
   "display_name": "PaddlePaddle 1.7.1 (Python 3.5)",
   "language": "python",
   "name": "py35-paddle1.2.0"
  },
  "language_info": {
   "codemirror_mode": {
    "name": "ipython",
    "version": 3
   },
   "file_extension": ".py",
   "mimetype": "text/x-python",
   "name": "python",
   "nbconvert_exporter": "python",
   "pygments_lexer": "ipython3",
   "version": "3.7.4"
  }
 },
 "nbformat": 4,
 "nbformat_minor": 1
}
